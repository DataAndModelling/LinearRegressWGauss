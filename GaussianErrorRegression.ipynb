{
 "cells": [
  {
   "cell_type": "code",
   "execution_count": 96,
   "id": "82510e38-4a34-400e-98d8-a361ec2f60f0",
   "metadata": {},
   "outputs": [],
   "source": [
    "import numpy as np\n",
    "import matplotlib.pyplot as plt\n",
    "from scipy.stats import chisquare, norm\n",
    "from sklearn.linear_model import LinearRegression"
   ]
  },
  {
   "cell_type": "markdown",
   "id": "b0137072-5056-4dc2-98ec-f5839d072b82",
   "metadata": {},
   "source": [
    "This notebook explore gaussian noise adjustments to linear regression\n",
    "\n",
    "Lets first generate some mock data with gaussian noise"
   ]
  },
  {
   "cell_type": "code",
   "execution_count": 97,
   "id": "088dc5db-3926-4775-96ae-847c38427c8e",
   "metadata": {},
   "outputs": [],
   "source": [
    "np.random.seed(42)  # For reproducibility"
   ]
  },
  {
   "cell_type": "code",
   "execution_count": 98,
   "id": "01229bb8-683d-409f-9076-2916fac9c2fd",
   "metadata": {},
   "outputs": [],
   "source": [
    "actual_slope = 2\n",
    "actual_intercept = 5\n",
    "n_samples = 100  # Number of data points\n",
    "\n",
    "x = np.random.rand(n_samples, 1) * 10  # Generate random x values between 0 and 10\n",
    "\n",
    "noise_scale = 3\n",
    "\n",
    "noise = noise_scale * np.random.randn(n_samples, 1)  # Gaussian noise"
   ]
  },
  {
   "cell_type": "markdown",
   "id": "3787f026-dfc0-49b0-8ea7-1a4579efb428",
   "metadata": {},
   "source": [
    "you can adjust these accordingly"
   ]
  },
  {
   "cell_type": "code",
   "execution_count": 99,
   "id": "ac6c9788-d2ad-4f38-9dc9-1cfa5dec84df",
   "metadata": {},
   "outputs": [],
   "source": [
    "y = actual_slope * x + actual_intercept + noise  # Linear function with Gaussian noise"
   ]
  },
  {
   "cell_type": "markdown",
   "id": "9cc1a8d8-b9d1-41fc-aaeb-3235e83bb59f",
   "metadata": {},
   "source": [
    "Perform linear regression, we use scikit learn for ease"
   ]
  },
  {
   "cell_type": "code",
   "execution_count": 100,
   "id": "0bd5138a-aac3-45da-a052-ca63a8be5208",
   "metadata": {},
   "outputs": [
    {
     "data": {
      "text/html": [
       "<style>#sk-container-id-3 {\n",
       "  /* Definition of color scheme common for light and dark mode */\n",
       "  --sklearn-color-text: #000;\n",
       "  --sklearn-color-text-muted: #666;\n",
       "  --sklearn-color-line: gray;\n",
       "  /* Definition of color scheme for unfitted estimators */\n",
       "  --sklearn-color-unfitted-level-0: #fff5e6;\n",
       "  --sklearn-color-unfitted-level-1: #f6e4d2;\n",
       "  --sklearn-color-unfitted-level-2: #ffe0b3;\n",
       "  --sklearn-color-unfitted-level-3: chocolate;\n",
       "  /* Definition of color scheme for fitted estimators */\n",
       "  --sklearn-color-fitted-level-0: #f0f8ff;\n",
       "  --sklearn-color-fitted-level-1: #d4ebff;\n",
       "  --sklearn-color-fitted-level-2: #b3dbfd;\n",
       "  --sklearn-color-fitted-level-3: cornflowerblue;\n",
       "\n",
       "  /* Specific color for light theme */\n",
       "  --sklearn-color-text-on-default-background: var(--sg-text-color, var(--theme-code-foreground, var(--jp-content-font-color1, black)));\n",
       "  --sklearn-color-background: var(--sg-background-color, var(--theme-background, var(--jp-layout-color0, white)));\n",
       "  --sklearn-color-border-box: var(--sg-text-color, var(--theme-code-foreground, var(--jp-content-font-color1, black)));\n",
       "  --sklearn-color-icon: #696969;\n",
       "\n",
       "  @media (prefers-color-scheme: dark) {\n",
       "    /* Redefinition of color scheme for dark theme */\n",
       "    --sklearn-color-text-on-default-background: var(--sg-text-color, var(--theme-code-foreground, var(--jp-content-font-color1, white)));\n",
       "    --sklearn-color-background: var(--sg-background-color, var(--theme-background, var(--jp-layout-color0, #111)));\n",
       "    --sklearn-color-border-box: var(--sg-text-color, var(--theme-code-foreground, var(--jp-content-font-color1, white)));\n",
       "    --sklearn-color-icon: #878787;\n",
       "  }\n",
       "}\n",
       "\n",
       "#sk-container-id-3 {\n",
       "  color: var(--sklearn-color-text);\n",
       "}\n",
       "\n",
       "#sk-container-id-3 pre {\n",
       "  padding: 0;\n",
       "}\n",
       "\n",
       "#sk-container-id-3 input.sk-hidden--visually {\n",
       "  border: 0;\n",
       "  clip: rect(1px 1px 1px 1px);\n",
       "  clip: rect(1px, 1px, 1px, 1px);\n",
       "  height: 1px;\n",
       "  margin: -1px;\n",
       "  overflow: hidden;\n",
       "  padding: 0;\n",
       "  position: absolute;\n",
       "  width: 1px;\n",
       "}\n",
       "\n",
       "#sk-container-id-3 div.sk-dashed-wrapped {\n",
       "  border: 1px dashed var(--sklearn-color-line);\n",
       "  margin: 0 0.4em 0.5em 0.4em;\n",
       "  box-sizing: border-box;\n",
       "  padding-bottom: 0.4em;\n",
       "  background-color: var(--sklearn-color-background);\n",
       "}\n",
       "\n",
       "#sk-container-id-3 div.sk-container {\n",
       "  /* jupyter's `normalize.less` sets `[hidden] { display: none; }`\n",
       "     but bootstrap.min.css set `[hidden] { display: none !important; }`\n",
       "     so we also need the `!important` here to be able to override the\n",
       "     default hidden behavior on the sphinx rendered scikit-learn.org.\n",
       "     See: https://github.com/scikit-learn/scikit-learn/issues/21755 */\n",
       "  display: inline-block !important;\n",
       "  position: relative;\n",
       "}\n",
       "\n",
       "#sk-container-id-3 div.sk-text-repr-fallback {\n",
       "  display: none;\n",
       "}\n",
       "\n",
       "div.sk-parallel-item,\n",
       "div.sk-serial,\n",
       "div.sk-item {\n",
       "  /* draw centered vertical line to link estimators */\n",
       "  background-image: linear-gradient(var(--sklearn-color-text-on-default-background), var(--sklearn-color-text-on-default-background));\n",
       "  background-size: 2px 100%;\n",
       "  background-repeat: no-repeat;\n",
       "  background-position: center center;\n",
       "}\n",
       "\n",
       "/* Parallel-specific style estimator block */\n",
       "\n",
       "#sk-container-id-3 div.sk-parallel-item::after {\n",
       "  content: \"\";\n",
       "  width: 100%;\n",
       "  border-bottom: 2px solid var(--sklearn-color-text-on-default-background);\n",
       "  flex-grow: 1;\n",
       "}\n",
       "\n",
       "#sk-container-id-3 div.sk-parallel {\n",
       "  display: flex;\n",
       "  align-items: stretch;\n",
       "  justify-content: center;\n",
       "  background-color: var(--sklearn-color-background);\n",
       "  position: relative;\n",
       "}\n",
       "\n",
       "#sk-container-id-3 div.sk-parallel-item {\n",
       "  display: flex;\n",
       "  flex-direction: column;\n",
       "}\n",
       "\n",
       "#sk-container-id-3 div.sk-parallel-item:first-child::after {\n",
       "  align-self: flex-end;\n",
       "  width: 50%;\n",
       "}\n",
       "\n",
       "#sk-container-id-3 div.sk-parallel-item:last-child::after {\n",
       "  align-self: flex-start;\n",
       "  width: 50%;\n",
       "}\n",
       "\n",
       "#sk-container-id-3 div.sk-parallel-item:only-child::after {\n",
       "  width: 0;\n",
       "}\n",
       "\n",
       "/* Serial-specific style estimator block */\n",
       "\n",
       "#sk-container-id-3 div.sk-serial {\n",
       "  display: flex;\n",
       "  flex-direction: column;\n",
       "  align-items: center;\n",
       "  background-color: var(--sklearn-color-background);\n",
       "  padding-right: 1em;\n",
       "  padding-left: 1em;\n",
       "}\n",
       "\n",
       "\n",
       "/* Toggleable style: style used for estimator/Pipeline/ColumnTransformer box that is\n",
       "clickable and can be expanded/collapsed.\n",
       "- Pipeline and ColumnTransformer use this feature and define the default style\n",
       "- Estimators will overwrite some part of the style using the `sk-estimator` class\n",
       "*/\n",
       "\n",
       "/* Pipeline and ColumnTransformer style (default) */\n",
       "\n",
       "#sk-container-id-3 div.sk-toggleable {\n",
       "  /* Default theme specific background. It is overwritten whether we have a\n",
       "  specific estimator or a Pipeline/ColumnTransformer */\n",
       "  background-color: var(--sklearn-color-background);\n",
       "}\n",
       "\n",
       "/* Toggleable label */\n",
       "#sk-container-id-3 label.sk-toggleable__label {\n",
       "  cursor: pointer;\n",
       "  display: flex;\n",
       "  width: 100%;\n",
       "  margin-bottom: 0;\n",
       "  padding: 0.5em;\n",
       "  box-sizing: border-box;\n",
       "  text-align: center;\n",
       "  align-items: start;\n",
       "  justify-content: space-between;\n",
       "  gap: 0.5em;\n",
       "}\n",
       "\n",
       "#sk-container-id-3 label.sk-toggleable__label .caption {\n",
       "  font-size: 0.6rem;\n",
       "  font-weight: lighter;\n",
       "  color: var(--sklearn-color-text-muted);\n",
       "}\n",
       "\n",
       "#sk-container-id-3 label.sk-toggleable__label-arrow:before {\n",
       "  /* Arrow on the left of the label */\n",
       "  content: \"▸\";\n",
       "  float: left;\n",
       "  margin-right: 0.25em;\n",
       "  color: var(--sklearn-color-icon);\n",
       "}\n",
       "\n",
       "#sk-container-id-3 label.sk-toggleable__label-arrow:hover:before {\n",
       "  color: var(--sklearn-color-text);\n",
       "}\n",
       "\n",
       "/* Toggleable content - dropdown */\n",
       "\n",
       "#sk-container-id-3 div.sk-toggleable__content {\n",
       "  max-height: 0;\n",
       "  max-width: 0;\n",
       "  overflow: hidden;\n",
       "  text-align: left;\n",
       "  /* unfitted */\n",
       "  background-color: var(--sklearn-color-unfitted-level-0);\n",
       "}\n",
       "\n",
       "#sk-container-id-3 div.sk-toggleable__content.fitted {\n",
       "  /* fitted */\n",
       "  background-color: var(--sklearn-color-fitted-level-0);\n",
       "}\n",
       "\n",
       "#sk-container-id-3 div.sk-toggleable__content pre {\n",
       "  margin: 0.2em;\n",
       "  border-radius: 0.25em;\n",
       "  color: var(--sklearn-color-text);\n",
       "  /* unfitted */\n",
       "  background-color: var(--sklearn-color-unfitted-level-0);\n",
       "}\n",
       "\n",
       "#sk-container-id-3 div.sk-toggleable__content.fitted pre {\n",
       "  /* unfitted */\n",
       "  background-color: var(--sklearn-color-fitted-level-0);\n",
       "}\n",
       "\n",
       "#sk-container-id-3 input.sk-toggleable__control:checked~div.sk-toggleable__content {\n",
       "  /* Expand drop-down */\n",
       "  max-height: 200px;\n",
       "  max-width: 100%;\n",
       "  overflow: auto;\n",
       "}\n",
       "\n",
       "#sk-container-id-3 input.sk-toggleable__control:checked~label.sk-toggleable__label-arrow:before {\n",
       "  content: \"▾\";\n",
       "}\n",
       "\n",
       "/* Pipeline/ColumnTransformer-specific style */\n",
       "\n",
       "#sk-container-id-3 div.sk-label input.sk-toggleable__control:checked~label.sk-toggleable__label {\n",
       "  color: var(--sklearn-color-text);\n",
       "  background-color: var(--sklearn-color-unfitted-level-2);\n",
       "}\n",
       "\n",
       "#sk-container-id-3 div.sk-label.fitted input.sk-toggleable__control:checked~label.sk-toggleable__label {\n",
       "  background-color: var(--sklearn-color-fitted-level-2);\n",
       "}\n",
       "\n",
       "/* Estimator-specific style */\n",
       "\n",
       "/* Colorize estimator box */\n",
       "#sk-container-id-3 div.sk-estimator input.sk-toggleable__control:checked~label.sk-toggleable__label {\n",
       "  /* unfitted */\n",
       "  background-color: var(--sklearn-color-unfitted-level-2);\n",
       "}\n",
       "\n",
       "#sk-container-id-3 div.sk-estimator.fitted input.sk-toggleable__control:checked~label.sk-toggleable__label {\n",
       "  /* fitted */\n",
       "  background-color: var(--sklearn-color-fitted-level-2);\n",
       "}\n",
       "\n",
       "#sk-container-id-3 div.sk-label label.sk-toggleable__label,\n",
       "#sk-container-id-3 div.sk-label label {\n",
       "  /* The background is the default theme color */\n",
       "  color: var(--sklearn-color-text-on-default-background);\n",
       "}\n",
       "\n",
       "/* On hover, darken the color of the background */\n",
       "#sk-container-id-3 div.sk-label:hover label.sk-toggleable__label {\n",
       "  color: var(--sklearn-color-text);\n",
       "  background-color: var(--sklearn-color-unfitted-level-2);\n",
       "}\n",
       "\n",
       "/* Label box, darken color on hover, fitted */\n",
       "#sk-container-id-3 div.sk-label.fitted:hover label.sk-toggleable__label.fitted {\n",
       "  color: var(--sklearn-color-text);\n",
       "  background-color: var(--sklearn-color-fitted-level-2);\n",
       "}\n",
       "\n",
       "/* Estimator label */\n",
       "\n",
       "#sk-container-id-3 div.sk-label label {\n",
       "  font-family: monospace;\n",
       "  font-weight: bold;\n",
       "  display: inline-block;\n",
       "  line-height: 1.2em;\n",
       "}\n",
       "\n",
       "#sk-container-id-3 div.sk-label-container {\n",
       "  text-align: center;\n",
       "}\n",
       "\n",
       "/* Estimator-specific */\n",
       "#sk-container-id-3 div.sk-estimator {\n",
       "  font-family: monospace;\n",
       "  border: 1px dotted var(--sklearn-color-border-box);\n",
       "  border-radius: 0.25em;\n",
       "  box-sizing: border-box;\n",
       "  margin-bottom: 0.5em;\n",
       "  /* unfitted */\n",
       "  background-color: var(--sklearn-color-unfitted-level-0);\n",
       "}\n",
       "\n",
       "#sk-container-id-3 div.sk-estimator.fitted {\n",
       "  /* fitted */\n",
       "  background-color: var(--sklearn-color-fitted-level-0);\n",
       "}\n",
       "\n",
       "/* on hover */\n",
       "#sk-container-id-3 div.sk-estimator:hover {\n",
       "  /* unfitted */\n",
       "  background-color: var(--sklearn-color-unfitted-level-2);\n",
       "}\n",
       "\n",
       "#sk-container-id-3 div.sk-estimator.fitted:hover {\n",
       "  /* fitted */\n",
       "  background-color: var(--sklearn-color-fitted-level-2);\n",
       "}\n",
       "\n",
       "/* Specification for estimator info (e.g. \"i\" and \"?\") */\n",
       "\n",
       "/* Common style for \"i\" and \"?\" */\n",
       "\n",
       ".sk-estimator-doc-link,\n",
       "a:link.sk-estimator-doc-link,\n",
       "a:visited.sk-estimator-doc-link {\n",
       "  float: right;\n",
       "  font-size: smaller;\n",
       "  line-height: 1em;\n",
       "  font-family: monospace;\n",
       "  background-color: var(--sklearn-color-background);\n",
       "  border-radius: 1em;\n",
       "  height: 1em;\n",
       "  width: 1em;\n",
       "  text-decoration: none !important;\n",
       "  margin-left: 0.5em;\n",
       "  text-align: center;\n",
       "  /* unfitted */\n",
       "  border: var(--sklearn-color-unfitted-level-1) 1pt solid;\n",
       "  color: var(--sklearn-color-unfitted-level-1);\n",
       "}\n",
       "\n",
       ".sk-estimator-doc-link.fitted,\n",
       "a:link.sk-estimator-doc-link.fitted,\n",
       "a:visited.sk-estimator-doc-link.fitted {\n",
       "  /* fitted */\n",
       "  border: var(--sklearn-color-fitted-level-1) 1pt solid;\n",
       "  color: var(--sklearn-color-fitted-level-1);\n",
       "}\n",
       "\n",
       "/* On hover */\n",
       "div.sk-estimator:hover .sk-estimator-doc-link:hover,\n",
       ".sk-estimator-doc-link:hover,\n",
       "div.sk-label-container:hover .sk-estimator-doc-link:hover,\n",
       ".sk-estimator-doc-link:hover {\n",
       "  /* unfitted */\n",
       "  background-color: var(--sklearn-color-unfitted-level-3);\n",
       "  color: var(--sklearn-color-background);\n",
       "  text-decoration: none;\n",
       "}\n",
       "\n",
       "div.sk-estimator.fitted:hover .sk-estimator-doc-link.fitted:hover,\n",
       ".sk-estimator-doc-link.fitted:hover,\n",
       "div.sk-label-container:hover .sk-estimator-doc-link.fitted:hover,\n",
       ".sk-estimator-doc-link.fitted:hover {\n",
       "  /* fitted */\n",
       "  background-color: var(--sklearn-color-fitted-level-3);\n",
       "  color: var(--sklearn-color-background);\n",
       "  text-decoration: none;\n",
       "}\n",
       "\n",
       "/* Span, style for the box shown on hovering the info icon */\n",
       ".sk-estimator-doc-link span {\n",
       "  display: none;\n",
       "  z-index: 9999;\n",
       "  position: relative;\n",
       "  font-weight: normal;\n",
       "  right: .2ex;\n",
       "  padding: .5ex;\n",
       "  margin: .5ex;\n",
       "  width: min-content;\n",
       "  min-width: 20ex;\n",
       "  max-width: 50ex;\n",
       "  color: var(--sklearn-color-text);\n",
       "  box-shadow: 2pt 2pt 4pt #999;\n",
       "  /* unfitted */\n",
       "  background: var(--sklearn-color-unfitted-level-0);\n",
       "  border: .5pt solid var(--sklearn-color-unfitted-level-3);\n",
       "}\n",
       "\n",
       ".sk-estimator-doc-link.fitted span {\n",
       "  /* fitted */\n",
       "  background: var(--sklearn-color-fitted-level-0);\n",
       "  border: var(--sklearn-color-fitted-level-3);\n",
       "}\n",
       "\n",
       ".sk-estimator-doc-link:hover span {\n",
       "  display: block;\n",
       "}\n",
       "\n",
       "/* \"?\"-specific style due to the `<a>` HTML tag */\n",
       "\n",
       "#sk-container-id-3 a.estimator_doc_link {\n",
       "  float: right;\n",
       "  font-size: 1rem;\n",
       "  line-height: 1em;\n",
       "  font-family: monospace;\n",
       "  background-color: var(--sklearn-color-background);\n",
       "  border-radius: 1rem;\n",
       "  height: 1rem;\n",
       "  width: 1rem;\n",
       "  text-decoration: none;\n",
       "  /* unfitted */\n",
       "  color: var(--sklearn-color-unfitted-level-1);\n",
       "  border: var(--sklearn-color-unfitted-level-1) 1pt solid;\n",
       "}\n",
       "\n",
       "#sk-container-id-3 a.estimator_doc_link.fitted {\n",
       "  /* fitted */\n",
       "  border: var(--sklearn-color-fitted-level-1) 1pt solid;\n",
       "  color: var(--sklearn-color-fitted-level-1);\n",
       "}\n",
       "\n",
       "/* On hover */\n",
       "#sk-container-id-3 a.estimator_doc_link:hover {\n",
       "  /* unfitted */\n",
       "  background-color: var(--sklearn-color-unfitted-level-3);\n",
       "  color: var(--sklearn-color-background);\n",
       "  text-decoration: none;\n",
       "}\n",
       "\n",
       "#sk-container-id-3 a.estimator_doc_link.fitted:hover {\n",
       "  /* fitted */\n",
       "  background-color: var(--sklearn-color-fitted-level-3);\n",
       "}\n",
       "</style><div id=\"sk-container-id-3\" class=\"sk-top-container\"><div class=\"sk-text-repr-fallback\"><pre>LinearRegression()</pre><b>In a Jupyter environment, please rerun this cell to show the HTML representation or trust the notebook. <br />On GitHub, the HTML representation is unable to render, please try loading this page with nbviewer.org.</b></div><div class=\"sk-container\" hidden><div class=\"sk-item\"><div class=\"sk-estimator fitted sk-toggleable\"><input class=\"sk-toggleable__control sk-hidden--visually\" id=\"sk-estimator-id-3\" type=\"checkbox\" checked><label for=\"sk-estimator-id-3\" class=\"sk-toggleable__label fitted sk-toggleable__label-arrow\"><div><div>LinearRegression</div></div><div><a class=\"sk-estimator-doc-link fitted\" rel=\"noreferrer\" target=\"_blank\" href=\"https://scikit-learn.org/1.6/modules/generated/sklearn.linear_model.LinearRegression.html\">?<span>Documentation for LinearRegression</span></a><span class=\"sk-estimator-doc-link fitted\">i<span>Fitted</span></span></div></label><div class=\"sk-toggleable__content fitted\"><pre>LinearRegression()</pre></div> </div></div></div></div>"
      ],
      "text/plain": [
       "LinearRegression()"
      ]
     },
     "execution_count": 100,
     "metadata": {},
     "output_type": "execute_result"
    }
   ],
   "source": [
    "model = LinearRegression()\n",
    "model.fit(x, y)  "
   ]
  },
  {
   "cell_type": "markdown",
   "id": "152ef204-277a-4c4b-86b8-1251e1ea58cd",
   "metadata": {},
   "source": [
    "Just now get the coefficients for reference."
   ]
  },
  {
   "cell_type": "code",
   "execution_count": 101,
   "id": "28acaa31-c4d8-43b3-8910-3a6419053882",
   "metadata": {},
   "outputs": [
    {
     "name": "stdout",
     "output_type": "stream",
     "text": [
      "Slope (a): [1.86206803]\n",
      "Intercept (b): [5.64528847]\n"
     ]
    }
   ],
   "source": [
    "slope = model.coef_[0]  # The slope 'a'\n",
    "intercept = model.intercept_  # The intercept 'b'\n",
    "\n",
    "print(f\"Slope (a): {slope}\")\n",
    "print(f\"Intercept (b): {intercept}\")"
   ]
  },
  {
   "cell_type": "markdown",
   "id": "c25b49fa-f108-4812-b838-2ffd210d1233",
   "metadata": {},
   "source": [
    "The residues need to be calculated"
   ]
  },
  {
   "cell_type": "code",
   "execution_count": 102,
   "id": "244ca1a2-d478-4208-b287-bf5b75ee008e",
   "metadata": {},
   "outputs": [],
   "source": [
    "y_pred = model.predict(x)\n",
    "residuals = y - y_pred\n",
    "residuals = residuals.reshape(100)"
   ]
  },
  {
   "cell_type": "markdown",
   "id": "e9088559-9be2-4824-9398-3dfb317acb81",
   "metadata": {},
   "source": [
    "after this normally we just show the MSE against the test data. but we're going to use the estimates and our knowledge of the gaussian noise to try and improve the estimates\n",
    "\n",
    "lets use a simple chi squared model to fit the residues into a normal distribution"
   ]
  },
  {
   "cell_type": "code",
   "execution_count": 103,
   "id": "dc0cccf8-df8a-4266-887d-da6005fc0e16",
   "metadata": {},
   "outputs": [],
   "source": [
    "num_bins = 10  \n",
    "# Example: 10 bins for the residuals, you can edit this as you like\n",
    "hist, bin_edges = np.histogram(residuals, bins=num_bins, density=False)\n",
    "# Compute bin centers\n",
    "bin_centers = 0.5 * (bin_edges[:-1] + bin_edges[1:])  \n",
    "mean = np.mean(residuals)\n",
    "std_dev = np.std(residuals)\n",
    "\n",
    "# Calculate the expected probabilities for each bin using the normal distribution\n",
    "expected_probabilities = norm.pdf(bin_centers, loc=mean, scale=std_dev)\n",
    "\n",
    "# Calculate the expected frequencies by multiplying the probability density by the total number of samples\n",
    "expected_freq = expected_probabilities * np.sum(hist) * (bin_edges[1] - bin_edges[0])  # Multiply by bin width\n"
   ]
  },
  {
   "cell_type": "markdown",
   "id": "3166f1cf-3340-4a0c-b157-29c8f6c11ad7",
   "metadata": {},
   "source": [
    "Implement manual Chi-Squared calculation. I am doing some non robust stuff so the errors in scipy got to me"
   ]
  },
  {
   "cell_type": "code",
   "execution_count": 104,
   "id": "0e9c6599-6ad9-4997-ab8e-13f27a08c64c",
   "metadata": {},
   "outputs": [],
   "source": [
    "def chi_squared(observed, expected):\n",
    "    # Ensure observed and expected have the same length\n",
    "    if len(observed) != len(expected):\n",
    "        raise ValueError(\"Observed and expected frequencies must have the same length.\")\n",
    "\n",
    "    # Calculate the Chi-Squared statistic\n",
    "    chi2_stat = np.sum((observed - expected) ** 2 / expected)\n",
    "    return chi2_stat"
   ]
  },
  {
   "cell_type": "code",
   "execution_count": 105,
   "id": "0840afd4-dc4c-4da0-a76f-9f0723e67e77",
   "metadata": {},
   "outputs": [
    {
     "name": "stdout",
     "output_type": "stream",
     "text": [
      "Chi-Squared Statistic: 16.7244414950924\n"
     ]
    }
   ],
   "source": [
    "chi2_stat = chi_squared(hist, expected_freq)\n",
    "\n",
    "print(\"Chi-Squared Statistic:\", chi2_stat)"
   ]
  },
  {
   "cell_type": "markdown",
   "id": "1891b8fd-1ec3-474a-b410-375bf3f4b3fb",
   "metadata": {},
   "source": [
    "This is our target to improve on. \n",
    "\n",
    "Our goal now is to iterate on the slope parameter and try to lower the chi squared statistic"
   ]
  },
  {
   "cell_type": "code",
   "execution_count": 106,
   "id": "df85d27d-ae79-4a87-95c8-ae6513ed4162",
   "metadata": {},
   "outputs": [],
   "source": [
    "def calculate_residuals(x, y, a, b):\n",
    "    \"\"\"\n",
    "    Calculate residuals for a linear model y = ax + b.\n",
    "\n",
    "    Parameters:\n",
    "    x (numpy.ndarray): The input values.\n",
    "    y (numpy.ndarray): The observed values.\n",
    "    a (float): The slope of the line (coefficient).\n",
    "    b (float): The intercept of the line.\n",
    "\n",
    "    Returns:\n",
    "    numpy.ndarray: The residuals (differences between observed and predicted values).\n",
    "    \"\"\"\n",
    "    # Calculate predicted values using the model y = ax + b\n",
    "    y_pred = a * x + b\n",
    "\n",
    "    # Calculate residuals (observed - predicted)\n",
    "    residuals = y - y_pred\n",
    "    return residuals"
   ]
  },
  {
   "cell_type": "code",
   "execution_count": 107,
   "id": "b44ded36-ec1c-44bb-b3bd-346a2003a3b8",
   "metadata": {},
   "outputs": [],
   "source": [
    "def get_chi_score(x, y, a_est,b_est):\n",
    "    # Calculate residuals\n",
    "    residuals = calculate_residuals(x, y, a_est, b_est)\n",
    "\n",
    "    # Step 5: Define the number of bins and compute the histogram (observed frequencies)\n",
    "    num_bins = 10  # Example: 10 bins for the residuals\n",
    "    hist, bin_edges = np.histogram(residuals, bins=num_bins, density=False)\n",
    "\n",
    "    # Step 6: Calculate expected frequencies assuming a normal distribution\n",
    "    bin_centers = 0.5 * (bin_edges[:-1] + bin_edges[1:])  # Compute bin centers\n",
    "    mean = np.mean(residuals)\n",
    "    std_dev = np.std(residuals)\n",
    "\n",
    "    # Calculate the expected probabilities for each bin using the normal distribution\n",
    "    expected_probabilities = norm.pdf(bin_centers, loc=mean, scale=std_dev)\n",
    "\n",
    "    # Calculate the expected frequencies by multiplying the probability density by the total number of samples\n",
    "    expected_freq = expected_probabilities * np.sum(hist) * (bin_edges[1] - bin_edges[0])  # Multiply by bin width\n",
    "\n",
    "    # Step 8: Calculate Chi-Squared statistic manually\n",
    "    chi2_stat = chi_squared(hist, expected_freq)\n",
    "\n",
    "    return chi2_stat\n"
   ]
  },
  {
   "cell_type": "markdown",
   "id": "44c3296c-3207-4037-b761-2d1cedda5a97",
   "metadata": {},
   "source": [
    "you can play around with this section. eventually you find that the slope estimate near 2 gives the best fit\n",
    "\n",
    "you will also find that the intercept estimate doesnt affect the residue fits. this is because it shifts the residues but not the goodness of fit to a normal distribution."
   ]
  },
  {
   "cell_type": "code",
   "execution_count": 108,
   "id": "11cd3895-5f26-4162-954d-a1092682b096",
   "metadata": {},
   "outputs": [
    {
     "name": "stdout",
     "output_type": "stream",
     "text": [
      "Chi-Squared Statistic: 3.1883188240427156\n"
     ]
    }
   ],
   "source": [
    "#1.86206803, 16.7244414950924\n",
    "a_est = 1.97\n",
    "b_est = 5\n",
    "\n",
    "chi2_stat = get_chi_score(x, y, a_est, b_est)\n",
    "\n",
    "# Print results\n",
    "print(\"Chi-Squared Statistic:\", chi2_stat)"
   ]
  },
  {
   "cell_type": "markdown",
   "id": "51b2af1a-faff-436c-a2fe-6d2c88b209a0",
   "metadata": {},
   "source": [
    "this script runs through a list of possible values. if you perfer it that way"
   ]
  },
  {
   "cell_type": "code",
   "execution_count": 109,
   "id": "cfac0368-3911-4836-8f51-fccd18d5e4ae",
   "metadata": {},
   "outputs": [],
   "source": [
    "a_list = [slope + i * 0.01 for i in range(0, 25)]"
   ]
  },
  {
   "cell_type": "code",
   "execution_count": 110,
   "id": "3be40e2d-68e0-415a-8045-02e2790d68f0",
   "metadata": {},
   "outputs": [
    {
     "name": "stdout",
     "output_type": "stream",
     "text": [
      "1.8620680318630898 16.7244414950924\n",
      "1.8720680318630898 17.12764892499672\n",
      "1.8820680318630898 17.540554650041823\n",
      "1.8920680318630898 17.57375436793365\n",
      "1.9020680318630898 17.987464444947648\n",
      "1.9120680318630898 18.774127643463096\n",
      "1.9220680318630898 11.977207654568872\n",
      "1.9320680318630898 12.711304068035416\n",
      "1.9420680318630898 5.5280864276346104\n",
      "1.9520680318630899 3.425009326694732\n",
      "1.9620680318630899 3.454837250364978\n",
      "1.9720680318630899 3.1960807237687403\n",
      "1.9820680318630899 4.517569421352137\n",
      "1.9920680318630897 4.570277694750394\n",
      "2.00206803186309 4.624806652590812\n",
      "2.0120680318630897 4.680841367288707\n",
      "2.02206803186309 4.788019763788638\n",
      "2.0320680318630897 4.839522871451056\n",
      "2.04206803186309 4.278738027430414\n",
      "2.0520680318630897 5.036641201168412\n",
      "2.06206803186309 4.433445177075175\n",
      "2.0720680318630897 4.5397216495540595\n",
      "2.08206803186309 6.997169109919353\n",
      "2.0920680318630898 7.362653220208978\n",
      "2.10206803186309 6.335956470101273\n"
     ]
    },
    {
     "name": "stderr",
     "output_type": "stream",
     "text": [
      "C:\\Users\\andre\\AppData\\Local\\Temp\\ipykernel_10596\\2131223492.py:4: DeprecationWarning: Conversion of an array with ndim > 0 to a scalar is deprecated, and will error in future. Ensure you extract a single element from your array before performing this operation. (Deprecated NumPy 1.25.)\n",
      "  aentry = float(aentry)\n"
     ]
    }
   ],
   "source": [
    "chi_squared_dict = {}\n",
    "\n",
    "for aentry in a_list:\n",
    "    aentry = float(aentry)\n",
    "    chi2_stat = get_chi_score(x, y, aentry, 5)\n",
    "    chi_squared_dict[aentry] = chi2_stat\n",
    "\n",
    "for key,value in chi_squared_dict.items():\n",
    "    print(key,value)"
   ]
  },
  {
   "cell_type": "markdown",
   "id": "3c29e6ba-6c7a-4f7e-999d-2328183ce047",
   "metadata": {},
   "source": [
    "to deal with the intercept, we just force the slope and see what the mean of the intercept is"
   ]
  },
  {
   "cell_type": "code",
   "execution_count": 111,
   "id": "c7e2bbc1-66ab-4ba2-a954-323c077ae36d",
   "metadata": {},
   "outputs": [],
   "source": [
    "def calculate_intercept(x, y, m):\n",
    "    # Calculate the intercept using the formula\n",
    "    intercept = np.mean(y - m * x)\n",
    "    return intercept"
   ]
  },
  {
   "cell_type": "code",
   "execution_count": 112,
   "id": "5a138b75-204b-462e-83fc-a337836530d7",
   "metadata": {},
   "outputs": [
    {
     "name": "stdout",
     "output_type": "stream",
     "text": [
      "Calculated intercept: [5.64528847]\n"
     ]
    }
   ],
   "source": [
    "m_fixed = 1.972\n",
    "\n",
    "intercept_calc = calculate_intercept(x, y, m_fixed)\n",
    "print(\"Calculated intercept:\", intercept)"
   ]
  },
  {
   "cell_type": "markdown",
   "id": "3bf71fd8-d711-4ce0-8f1d-7282c15d6248",
   "metadata": {},
   "source": [
    "Now its time to implement our test. set the samples to a ridiculously high number and see the MSE"
   ]
  },
  {
   "cell_type": "code",
   "execution_count": 113,
   "id": "253658bd-0d89-4f69-8682-d4150ca09210",
   "metadata": {},
   "outputs": [
    {
     "name": "stdout",
     "output_type": "stream",
     "text": [
      "Mean Squared Error: 1.1600652188277227\n",
      "Mean Squared Error: 1.0041512398921222\n"
     ]
    }
   ],
   "source": [
    "n_samples = 100000  \n",
    "x_eval  = np.random.rand(n_samples, 1) * 10  # Generate random x values between 0 and 10\n",
    "noise_eval  = np.random.randn(n_samples, 1)  # Gaussian noise\n",
    "y_eval = 2 * x_eval + 5 + noise_eval   # Linear function with Gaussian noise\n",
    "\n",
    "y_norm = slope * x_eval + intercept\n",
    "# Calculate mean squared error\n",
    "mse = np.mean((y_eval - y_norm) ** 2)\n",
    "print(f'Mean Squared Error: {mse}')\n",
    "\n",
    "y_norm2 = m_fixed * x_eval + intercept_calc\n",
    "# Calculate mean squared error\n",
    "mse2 = np.mean((y_eval - y_norm2) ** 2)\n",
    "print(f'Mean Squared Error: {mse2}')"
   ]
  },
  {
   "cell_type": "markdown",
   "id": "586eea14-c0db-426e-b702-30eb401f85f9",
   "metadata": {},
   "source": [
    "Not bad, we even improved on the MSE!"
   ]
  },
  {
   "cell_type": "markdown",
   "id": "12c13759-69d9-4d4a-a307-803c11a31d70",
   "metadata": {},
   "source": [
    "The downside is scaling this up beyond 1 dimension. "
   ]
  }
 ],
 "metadata": {
  "kernelspec": {
   "display_name": "Python 3 (ipykernel)",
   "language": "python",
   "name": "python3"
  },
  "language_info": {
   "codemirror_mode": {
    "name": "ipython",
    "version": 3
   },
   "file_extension": ".py",
   "mimetype": "text/x-python",
   "name": "python",
   "nbconvert_exporter": "python",
   "pygments_lexer": "ipython3",
   "version": "3.10.0"
  }
 },
 "nbformat": 4,
 "nbformat_minor": 5
}
